{
 "cells": [
  {
   "cell_type": "markdown",
   "id": "885347ef-4977-4ba3-af39-7491bec2dbf4",
   "metadata": {},
   "source": [
    "## **배열(Array)**"
   ]
  },
  {
   "cell_type": "markdown",
   "id": "ca7ecaa8-0850-44e6-94b8-e5fb431ca0fb",
   "metadata": {},
   "source": [
    "- 데이터를 나열하고, 각 데이터를 인덱스에 대응하도록 구성한 데이터 구조\n",
    "- 파이썬에서는 리스트 타입이 배열 기능을 제공하고 있음"
   ]
  }
 ],
 "metadata": {
  "kernelspec": {
   "display_name": "Python 3 (ipykernel)",
   "language": "python",
   "name": "python3"
  },
  "language_info": {
   "codemirror_mode": {
    "name": "ipython",
    "version": 3
   },
   "file_extension": ".py",
   "mimetype": "text/x-python",
   "name": "python",
   "nbconvert_exporter": "python",
   "pygments_lexer": "ipython3",
   "version": "3.10.11"
  }
 },
 "nbformat": 4,
 "nbformat_minor": 5
}
