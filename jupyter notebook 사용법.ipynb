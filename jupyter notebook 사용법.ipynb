{
 "cells": [
  {
   "cell_type": "markdown",
   "id": "e1552ba3-c61e-44a4-872c-cffb37f98e9e",
   "metadata": {},
   "source": [
    "# jupyter notebook 단축키"
   ]
  },
  {
   "cell_type": "markdown",
   "id": "5fd871a5-68d3-4985-ad72-1e11cf975f2d",
   "metadata": {},
   "source": [
    "- a: 상단부에 셀만들기\n",
    "- b: 하단부에 셀만들기\n",
    "- ctrl+enter: 셀 실행하기\n",
    "- shift+enter: 셀 실행한 다음에, 하단부에 셀을 만들거나, 이미 하단부 셀이 존재하는 경우에 하단부 셀로 이동한다.\n",
    "- 00: restart kernel\n",
    "- dd: 셀을 삭제한다.\n",
    "- m: markdown으로 전환\n",
    "- y: code로 전환\n",
    "- code에서 tab키 연속으로 누르면 자동완성 기능을 사용할 수 있다."
   ]
  }
 ],
 "metadata": {
  "kernelspec": {
   "display_name": "Python 3 (ipykernel)",
   "language": "python",
   "name": "python3"
  },
  "language_info": {
   "codemirror_mode": {
    "name": "ipython",
    "version": 3
   },
   "file_extension": ".py",
   "mimetype": "text/x-python",
   "name": "python",
   "nbconvert_exporter": "python",
   "pygments_lexer": "ipython3",
   "version": "3.10.11"
  }
 },
 "nbformat": 4,
 "nbformat_minor": 5
}
